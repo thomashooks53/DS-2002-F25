{
 "cells": [
  {
   "cell_type": "markdown",
   "id": "839e7f26-f9e5-4a6d-b967-8bb46edfdc1f",
   "metadata": {},
   "source": [
    "# Data Acquisition via API Calls (NewsAPI)"
   ]
  },
  {
   "cell_type": "markdown",
   "id": "0727af3f-4ad7-48dc-b815-618b279fe27e",
   "metadata": {},
   "source": [
    "---"
   ]
  },
  {
   "cell_type": "markdown",
   "id": "06ad6eae-a4a2-4229-8cc7-3e66c6003f73",
   "metadata": {},
   "source": [
    "## Phase 1: Setup and Security"
   ]
  },
  {
   "cell_type": "markdown",
   "id": "4b38d294-14bd-45b0-a556-cda81bc7334b",
   "metadata": {},
   "source": [
    "### Install Dependencies"
   ]
  },
  {
   "cell_type": "code",
   "execution_count": 1,
   "id": "434cfda4-9de8-4cc6-a23d-89da51b23f6d",
   "metadata": {},
   "outputs": [
    {
     "name": "stdout",
     "output_type": "stream",
     "text": [
      "Collecting python-dotenv\n",
      "  Downloading python_dotenv-1.1.1-py3-none-any.whl.metadata (24 kB)\n",
      "Downloading python_dotenv-1.1.1-py3-none-any.whl (20 kB)\n",
      "Installing collected packages: python-dotenv\n",
      "Successfully installed python-dotenv-1.1.1\n",
      "\n",
      "\u001b[1m[\u001b[0m\u001b[34;49mnotice\u001b[0m\u001b[1;39;49m]\u001b[0m\u001b[39;49m A new release of pip is available: \u001b[0m\u001b[31;49m25.1.1\u001b[0m\u001b[39;49m -> \u001b[0m\u001b[32;49m25.2\u001b[0m\n",
      "\u001b[1m[\u001b[0m\u001b[34;49mnotice\u001b[0m\u001b[1;39;49m]\u001b[0m\u001b[39;49m To update, run: \u001b[0m\u001b[32;49mpython3 -m pip install --upgrade pip\u001b[0m\n",
      "Dependencies installed successfully.\n"
     ]
    }
   ],
   "source": [
    "# Install the necessary library for loading environment variables (like API keys)\n",
    "!pip install python-dotenv\n",
    "\n",
    "print(\"Dependencies installed successfully.\")"
   ]
  },
  {
   "cell_type": "markdown",
   "id": "2c1f2e3a-048f-4fe2-858c-75dc46293f49",
   "metadata": {},
   "source": [
    "### Import Modules\n",
    "Import all necessary Python libraries. Note that `requests` is the primary tool for submitting HTTP requests."
   ]
  },
  {
   "cell_type": "code",
   "execution_count": 2,
   "id": "04207cb4-b746-4365-82ca-09fcde405c76",
   "metadata": {},
   "outputs": [
    {
     "name": "stdout",
     "output_type": "stream",
     "text": [
      "Modules imported.\n"
     ]
    }
   ],
   "source": [
    "import numpy as np\n",
    "import pandas as pd\n",
    "import os\n",
    "import requests\n",
    "import json\n",
    "import dotenv\n",
    "from datetime import datetime\n",
    "\n",
    "print(\"Modules imported.\")"
   ]
  },
  {
   "cell_type": "markdown",
   "id": "bbcd31b8-25bf-4434-904c-5a2d7596f1c7",
   "metadata": {},
   "source": [
    "### Load Environment Variables\n",
    "This loads your `.env` file, which is crucial for securely handling your NewsAPI key without exposing it in the notebook."
   ]
  },
  {
   "cell_type": "code",
   "execution_count": 3,
   "id": "6ffaead9-f975-4669-91ea-8221892a28de",
   "metadata": {},
   "outputs": [
    {
     "name": "stdout",
     "output_type": "stream",
     "text": [
      "Environment variables loaded.\n"
     ]
    }
   ],
   "source": [
    "# Load the .env file to access environment variables (e.g., your API Key)\n",
    "dotenv.load_dotenv()\n",
    "\n",
    "print(\"Environment variables loaded.\")"
   ]
  },
  {
   "cell_type": "markdown",
   "id": "7071af15-2cb5-4ef1-98d6-04ff935dbd04",
   "metadata": {},
   "source": [
    "### Retrieve API Key\n",
    "We access the stored API key using os.getenv()."
   ]
  },
  {
   "cell_type": "code",
   "execution_count": 4,
   "id": "d99c4807-4efb-43a2-8236-a54339673626",
   "metadata": {},
   "outputs": [
    {
     "name": "stdout",
     "output_type": "stream",
     "text": [
      "News API key successfully retrieved.\n"
     ]
    }
   ],
   "source": [
    "# Get the News API key from the environment variables\n",
    "newskey = os.getenv('newskey')\n",
    "\n",
    "# We won't print the key, but we confirm it's loaded (e.g., by checking its length)\n",
    "if newskey:\n",
    "    print(\"News API key successfully retrieved.\")\n",
    "else:\n",
    "    print(\"ERROR: News API key not found. Check your .env file.\")"
   ]
  },
  {
   "cell_type": "markdown",
   "id": "2c2de509-7b66-49ff-8d14-b77ad7a60c14",
   "metadata": {},
   "source": [
    "---"
   ]
  },
  {
   "cell_type": "markdown",
   "id": "e71f2ee3-a1d5-4232-851e-4f934a6e2417",
   "metadata": {},
   "source": [
    "## Phase 2: Building the API Request Components\n",
    "An HTTP request requires four main components: URL root, endpoint, headers (for security/metadata), and parameters (the query)."
   ]
  },
  {
   "cell_type": "markdown",
   "id": "4e120544-61cb-46d2-b5a1-045d95df4a2f",
   "metadata": {},
   "source": [
    "### Build User Agent Header\n",
    "Many APIs require a User-agent to identify the client application. We use httpbin.org to dynamically grab a standard User-agent string."
   ]
  },
  {
   "cell_type": "code",
   "execution_count": 5,
   "id": "d399ea8a-2f04-46da-8fdd-09436ee2b51d",
   "metadata": {},
   "outputs": [
    {
     "name": "stdout",
     "output_type": "stream",
     "text": [
      "User-agent: python-requests/2.32.4\n",
      "Headers dictionary created, containing the API key.\n"
     ]
    }
   ],
   "source": [
    "# 1. Get a standard User-agent string\n",
    "r = requests.get('https://httpbin.org/user-agent')\n",
    "useragent = json.loads(r.text)['user-agent']\n",
    "\n",
    "# 2. Build the full headers dictionary\n",
    "# The API key is sent via the 'X-Api-Key' header, a common secure method.\n",
    "headers = {'User-agent': useragent,\n",
    "           'X-Api-Key': newskey}\n",
    "\n",
    "print(f\"User-agent: {useragent}\")\n",
    "print(\"Headers dictionary created, containing the API key.\")"
   ]
  },
  {
   "cell_type": "markdown",
   "id": "3058069f-4e41-414d-aac2-bfb8e506693e",
   "metadata": {},
   "source": [
    "### Define URL Root and Endpoint\n",
    "This defines the fixed address for the NewsAPI service we want to use."
   ]
  },
  {
   "cell_type": "code",
   "execution_count": 6,
   "id": "f690335c-d0f0-4d1d-91ae-8aac3e9a742c",
   "metadata": {},
   "outputs": [
    {
     "name": "stdout",
     "output_type": "stream",
     "text": [
      "API Base URL: https://newsapi.org/v2/everything\n"
     ]
    }
   ],
   "source": [
    "# Define the fixed URL parts\n",
    "root = 'https://newsapi.org'\n",
    "endpoint = '/v2/everything' # This endpoint searches all articles\n",
    "\n",
    "print(f\"API Base URL: {root + endpoint}\")"
   ]
  },
  {
   "cell_type": "markdown",
   "id": "4ab99c91-4fc4-451c-8986-0a8ee6856ebc",
   "metadata": {},
   "source": [
    "### Define Query Parameters\n",
    "Parameters are used to customize the search (e.g., topic, language, date)."
   ]
  },
  {
   "cell_type": "code",
   "execution_count": 7,
   "id": "14b6b582-fbda-4307-9150-7386f0a17e45",
   "metadata": {},
   "outputs": [
    {
     "name": "stdout",
     "output_type": "stream",
     "text": [
      "Query parameters defined:\n",
      "{'q': '\"tallest mountain\"', 'searchIn': 'content', 'language': 'en', 'pageSize': 100}\n"
     ]
    }
   ],
   "source": [
    "# Define the search parameters as a Python dictionary\n",
    "params = {'q': '\"tallest mountain\"',  # Topic to search for (using quotes for exact phrase)\n",
    "         'searchIn': 'content',      # Search within the article content\n",
    "         'language': 'en',           # Restrict to English articles\n",
    "         'pageSize': 100}            # Request up to 100 articles\n",
    "\n",
    "print(\"Query parameters defined:\")\n",
    "print(params)"
   ]
  },
  {
   "cell_type": "markdown",
   "id": "f9eaced6-2b38-40f9-9cae-66dd7294ea43",
   "metadata": {},
   "source": [
    "---"
   ]
  },
  {
   "cell_type": "markdown",
   "id": "e9c4b522-db1d-4987-bf70-19bb40be3b1e",
   "metadata": {},
   "source": [
    "## Phase 3: API Execution and Parsing"
   ]
  },
  {
   "cell_type": "markdown",
   "id": "78ca83bb-3417-473c-8ba6-18dbaee32bc7",
   "metadata": {},
   "source": [
    "### Submit the GET Request\n",
    "This cell sends the request and checks the response status. A `<Response [200]>` indicates success."
   ]
  },
  {
   "cell_type": "code",
   "execution_count": 8,
   "id": "9bd9fbca-d7b3-4a0e-a116-b25264f725c2",
   "metadata": {},
   "outputs": [
    {
     "name": "stdout",
     "output_type": "stream",
     "text": [
      "Request submitted. Status: <Response [200]>\n"
     ]
    }
   ],
   "source": [
    "# Combine the components and submit the GET request\n",
    "r = requests.get(root + endpoint,\n",
    "                headers = headers,\n",
    "                params = params)\n",
    "\n",
    "# Display the response object (it should show <Response [200]>)\n",
    "print(f\"Request submitted. Status: {r}\")"
   ]
  },
  {
   "cell_type": "markdown",
   "id": "3bafe96c-249e-4b75-98e5-a953a978b3ff",
   "metadata": {},
   "source": [
    "### Parse the JSON Response\n",
    "The response (`r.text`) is a single string containing the JSON data. We use `json.loads()` to convert this string into a usable Python dictionary."
   ]
  },
  {
   "cell_type": "code",
   "execution_count": 9,
   "id": "d7083f83-3758-40d2-afb7-ee9807e8e28e",
   "metadata": {},
   "outputs": [
    {
     "name": "stdout",
     "output_type": "stream",
     "text": [
      "JSON response converted to a Python dictionary (Type: <class 'dict'>)\n",
      "Top-level keys in the response:\n",
      "['status', 'totalResults', 'articles']\n"
     ]
    }
   ],
   "source": [
    "# Convert the JSON response string into a Python dictionary\n",
    "myjson = json.loads(r.text)\n",
    "\n",
    "print(f\"JSON response converted to a Python dictionary (Type: {type(myjson)})\")\n",
    "print(\"Top-level keys in the response:\")\n",
    "print(list(myjson.keys()))"
   ]
  },
  {
   "cell_type": "markdown",
   "id": "31cb5910-e2e1-4536-9bd9-5eb4b306456c",
   "metadata": {},
   "source": [
    "### View Raw JSON Data Structure (Optional)\n",
    "This cell is often left commented out to avoid printing a massive wall of text but serves as a way to inspect the data structure."
   ]
  },
  {
   "cell_type": "code",
   "execution_count": 10,
   "id": "c0c3b976-b308-4c0c-93d7-246994bb28df",
   "metadata": {},
   "outputs": [],
   "source": [
    "# Uncomment this line to inspect the full structure of the JSON dictionary\n",
    "# print(json.dumps(myjson, indent=4))"
   ]
  },
  {
   "cell_type": "markdown",
   "id": "206e27f2-14c4-4497-bf40-c29ef1148d34",
   "metadata": {},
   "source": [
    "### Normalize JSON to DataFrame\n",
    "The key data is nested under the articles key. Pandas’ json_normalize() function flattens this nested data into a clean, tabular DataFrame."
   ]
  },
  {
   "cell_type": "code",
   "execution_count": 11,
   "id": "d7024cc7-939a-476f-8467-5d3f6bd58988",
   "metadata": {},
   "outputs": [
    {
     "name": "stdout",
     "output_type": "stream",
     "text": [
      "DataFrame created with 21 articles.\n",
      "First 5 rows of the DataFrame:\n"
     ]
    },
    {
     "data": {
      "text/html": [
       "<div>\n",
       "<style scoped>\n",
       "    .dataframe tbody tr th:only-of-type {\n",
       "        vertical-align: middle;\n",
       "    }\n",
       "\n",
       "    .dataframe tbody tr th {\n",
       "        vertical-align: top;\n",
       "    }\n",
       "\n",
       "    .dataframe thead th {\n",
       "        text-align: right;\n",
       "    }\n",
       "</style>\n",
       "<table border=\"1\" class=\"dataframe\">\n",
       "  <thead>\n",
       "    <tr style=\"text-align: right;\">\n",
       "      <th></th>\n",
       "      <th>author</th>\n",
       "      <th>title</th>\n",
       "      <th>description</th>\n",
       "      <th>url</th>\n",
       "      <th>urlToImage</th>\n",
       "      <th>publishedAt</th>\n",
       "      <th>content</th>\n",
       "      <th>source.id</th>\n",
       "      <th>source.name</th>\n",
       "    </tr>\n",
       "  </thead>\n",
       "  <tbody>\n",
       "    <tr>\n",
       "      <th>0</th>\n",
       "      <td>Lydia Mansel</td>\n",
       "      <td>This Historic Train Climbs the Tallest Mountai...</td>\n",
       "      <td>Riding the Mount Washington Cog Railway is one...</td>\n",
       "      <td>https://www.travelandleisure.com/mount-washing...</td>\n",
       "      <td>https://s.yimg.com/ny/api/res/1.2/JmSXRiaGiWkv...</td>\n",
       "      <td>2025-09-20T16:00:00Z</td>\n",
       "      <td>Key Points\\r\\n&lt;ul&gt;&lt;li&gt;The Mount Washington Cog...</td>\n",
       "      <td>None</td>\n",
       "      <td>Travel+Leisure</td>\n",
       "    </tr>\n",
       "    <tr>\n",
       "      <th>1</th>\n",
       "      <td>Express Web Desk</td>\n",
       "      <td>Polish skier becomes first to climb, ski down ...</td>\n",
       "      <td>In 2018, the Polish climber was the first pers...</td>\n",
       "      <td>https://indianexpress.com/article/world/polish...</td>\n",
       "      <td>https://images.indianexpress.com/2025/09/polan...</td>\n",
       "      <td>2025-09-28T04:50:59Z</td>\n",
       "      <td>Polish skier Andrzej Bargiel made history this...</td>\n",
       "      <td>None</td>\n",
       "      <td>The Indian Express</td>\n",
       "    </tr>\n",
       "    <tr>\n",
       "      <th>2</th>\n",
       "      <td>Georgie English</td>\n",
       "      <td>CLEAREST EVER SIGNS OF LIFE ON MARS...</td>\n",
       "      <td>NASA has revealed the clearest signs of life o...</td>\n",
       "      <td>https://www.the-sun.com/tech/15159152/nasa-mar...</td>\n",
       "      <td>https://www.the-sun.com/wp-content/uploads/sit...</td>\n",
       "      <td>2025-09-10T17:34:37Z</td>\n",
       "      <td>NASA has revealed the clearest signs of life o...</td>\n",
       "      <td>None</td>\n",
       "      <td>The-sun.com</td>\n",
       "    </tr>\n",
       "    <tr>\n",
       "      <th>3</th>\n",
       "      <td>ABC News</td>\n",
       "      <td>Sudan landslide claims 1,000 lives, village 'c...</td>\n",
       "      <td>The Sudan Liberation Movement/Army is appealin...</td>\n",
       "      <td>https://www.abc.net.au/news/2025-09-02/sudan-l...</td>\n",
       "      <td>https://live-production.wcms.abc-cdn.net.au/73...</td>\n",
       "      <td>2025-09-02T07:52:51Z</td>\n",
       "      <td>At least 1,000 people were killed in a landsli...</td>\n",
       "      <td>abc-news-au</td>\n",
       "      <td>ABC News (AU)</td>\n",
       "    </tr>\n",
       "    <tr>\n",
       "      <th>4</th>\n",
       "      <td>sascha.pare@futurenet.com (Sascha Pare) , Sasc...</td>\n",
       "      <td>The geology that holds up the Himalayas is not...</td>\n",
       "      <td>A 100-year-old theory explaining how Asia can ...</td>\n",
       "      <td>https://www.livescience.com/planet-earth/geolo...</td>\n",
       "      <td>https://cdn.mos.cms.futurecdn.net/KMwyEqed8eMT...</td>\n",
       "      <td>2025-08-30T15:50:00Z</td>\n",
       "      <td>Scientists may have just toppled a 100-year-ol...</td>\n",
       "      <td>None</td>\n",
       "      <td>Live Science</td>\n",
       "    </tr>\n",
       "  </tbody>\n",
       "</table>\n",
       "</div>"
      ],
      "text/plain": [
       "                                              author  \\\n",
       "0                                       Lydia Mansel   \n",
       "1                                   Express Web Desk   \n",
       "2                                    Georgie English   \n",
       "3                                           ABC News   \n",
       "4  sascha.pare@futurenet.com (Sascha Pare) , Sasc...   \n",
       "\n",
       "                                               title  \\\n",
       "0  This Historic Train Climbs the Tallest Mountai...   \n",
       "1  Polish skier becomes first to climb, ski down ...   \n",
       "2             CLEAREST EVER SIGNS OF LIFE ON MARS...   \n",
       "3  Sudan landslide claims 1,000 lives, village 'c...   \n",
       "4  The geology that holds up the Himalayas is not...   \n",
       "\n",
       "                                         description  \\\n",
       "0  Riding the Mount Washington Cog Railway is one...   \n",
       "1  In 2018, the Polish climber was the first pers...   \n",
       "2  NASA has revealed the clearest signs of life o...   \n",
       "3  The Sudan Liberation Movement/Army is appealin...   \n",
       "4  A 100-year-old theory explaining how Asia can ...   \n",
       "\n",
       "                                                 url  \\\n",
       "0  https://www.travelandleisure.com/mount-washing...   \n",
       "1  https://indianexpress.com/article/world/polish...   \n",
       "2  https://www.the-sun.com/tech/15159152/nasa-mar...   \n",
       "3  https://www.abc.net.au/news/2025-09-02/sudan-l...   \n",
       "4  https://www.livescience.com/planet-earth/geolo...   \n",
       "\n",
       "                                          urlToImage           publishedAt  \\\n",
       "0  https://s.yimg.com/ny/api/res/1.2/JmSXRiaGiWkv...  2025-09-20T16:00:00Z   \n",
       "1  https://images.indianexpress.com/2025/09/polan...  2025-09-28T04:50:59Z   \n",
       "2  https://www.the-sun.com/wp-content/uploads/sit...  2025-09-10T17:34:37Z   \n",
       "3  https://live-production.wcms.abc-cdn.net.au/73...  2025-09-02T07:52:51Z   \n",
       "4  https://cdn.mos.cms.futurecdn.net/KMwyEqed8eMT...  2025-08-30T15:50:00Z   \n",
       "\n",
       "                                             content    source.id  \\\n",
       "0  Key Points\\r\\n<ul><li>The Mount Washington Cog...         None   \n",
       "1  Polish skier Andrzej Bargiel made history this...         None   \n",
       "2  NASA has revealed the clearest signs of life o...         None   \n",
       "3  At least 1,000 people were killed in a landsli...  abc-news-au   \n",
       "4  Scientists may have just toppled a 100-year-ol...         None   \n",
       "\n",
       "          source.name  \n",
       "0      Travel+Leisure  \n",
       "1  The Indian Express  \n",
       "2         The-sun.com  \n",
       "3       ABC News (AU)  \n",
       "4        Live Science  "
      ]
     },
     "metadata": {},
     "output_type": "display_data"
    }
   ],
   "source": [
    "# Use json_normalize to extract the list of article dictionaries ('articles')\n",
    "news_df = pd.json_normalize(myjson, record_path = ['articles'])\n",
    "\n",
    "print(f\"DataFrame created with {len(news_df)} articles.\")\n",
    "print(\"First 5 rows of the DataFrame:\")\n",
    "display(news_df.head())"
   ]
  },
  {
   "cell_type": "markdown",
   "id": "ad96d273-19eb-476d-95b7-4ca9bbfca0e4",
   "metadata": {
    "tags": []
   },
   "source": [
    "---"
   ]
  },
  {
   "cell_type": "markdown",
   "id": "a5a91699-449d-4ef0-bca3-91a032365440",
   "metadata": {},
   "source": [
    "## Phase 4: Data Analysis and Export"
   ]
  },
  {
   "cell_type": "markdown",
   "id": "1031212a-e2a1-47dc-953d-0c00d212e977",
   "metadata": {},
   "source": [
    "### Clean and Prepare for Export\n",
    "Perform a final step to ensure the data is properly formatted before saving."
   ]
  },
  {
   "cell_type": "code",
   "execution_count": 12,
   "id": "40e76dd9-f0fe-45c5-84ab-c283c4c9953b",
   "metadata": {},
   "outputs": [
    {
     "name": "stdout",
     "output_type": "stream",
     "text": [
      "DataFrame prepared for export.\n"
     ]
    }
   ],
   "source": [
    "# Clean up the publishedAt column (convert to datetime)\n",
    "news_df['publishedAt'] = pd.to_datetime(news_df['publishedAt'])\n",
    "\n",
    "# Select a final set of columns for the CSV\n",
    "final_df = news_df[['publishedAt', 'title', 'description', 'url', 'source.name', 'author']].copy()\n",
    "\n",
    "print(\"DataFrame prepared for export.\")"
   ]
  },
  {
   "cell_type": "markdown",
   "id": "9a5e4a19-f79c-4c35-ac08-0fa00a08d926",
   "metadata": {},
   "source": [
    "### Export to CSV\n",
    "This is the final Load (L) phase of the data acquisition process."
   ]
  },
  {
   "cell_type": "code",
   "execution_count": 13,
   "id": "a8b0fb79-089b-4870-ba9c-284ba6d57cd6",
   "metadata": {},
   "outputs": [
    {
     "name": "stdout",
     "output_type": "stream",
     "text": [
      "Successfully exported 21 articles to news_articles_20250930_012902.csv\n"
     ]
    }
   ],
   "source": [
    "# Define a filename based on the current date for organization\n",
    "timestamp = datetime.now().strftime(\"%Y%m%d_%H%M%S\")\n",
    "output_filename = f'news_articles_{timestamp}.csv'\n",
    "\n",
    "# Export the final clean DataFrame to a CSV file\n",
    "final_df.to_csv(output_filename, index=False)\n",
    "\n",
    "print(f\"Successfully exported {len(final_df)} articles to {output_filename}\")"
   ]
  },
  {
   "cell_type": "markdown",
   "id": "5df09ae6-f075-4505-8cd1-55ea1bb048d7",
   "metadata": {},
   "source": [
    "---"
   ]
  },
  {
   "cell_type": "markdown",
   "id": "22debddc-6f42-4e65-b312-f197937142b3",
   "metadata": {},
   "source": [
    "## Function Definition (Optional Consolidation)\n",
    "This final cell provides the consolidation of all steps into a single, reusable function—demonstrating how a script would execute the entire API call process."
   ]
  },
  {
   "cell_type": "code",
   "execution_count": 14,
   "id": "19593a69-02c0-4e82-9a56-56a5412b7773",
   "metadata": {},
   "outputs": [],
   "source": [
    "def grab_latest_articles():\n",
    "    \"\"\"\n",
    "    Consolidates all steps: builds request, calls API, parses JSON, and returns a DataFrame.\n",
    "    \"\"\"\n",
    "    \n",
    "    # Prompt the user\n",
    "    topic = input(\"Please enter your topic of interest: \")\n",
    "    \n",
    "    # Build our Headers\n",
    "    newskey = os.getenv('newskey')\n",
    "    r = requests.get('https://httpbin.org/user-agent')\n",
    "    useragent = json.loads(r.text)['user-agent']\n",
    "    headers = {'User-agent': useragent,\n",
    "               'X-Api-Key': newskey}\n",
    "\n",
    "    # Build our URL and Parameters\n",
    "    root = 'https://newsapi.org'\n",
    "    endpoint = '/v2/everything'\n",
    "    params = {'q': topic,\n",
    "              'searchIn': 'content',\n",
    "              'language': 'en',\n",
    "              'pageSize': 100}\n",
    "    \n",
    "    # Submit our Request\n",
    "    r = requests.get(root + endpoint,\n",
    "                headers = headers,\n",
    "                params = params)\n",
    "    \n",
    "    # Create and return the pandas dataframe\n",
    "    myjson = json.loads(r.text)\n",
    "    news_df = pd.json_normalize(myjson, record_path = ['articles'])\n",
    "    \n",
    "    return news_df"
   ]
  },
  {
   "cell_type": "code",
   "execution_count": 15,
   "id": "5c57470e-0554-443d-8563-e9eb94fa87c1",
   "metadata": {},
   "outputs": [
    {
     "data": {
      "text/html": [
       "<div>\n",
       "<style scoped>\n",
       "    .dataframe tbody tr th:only-of-type {\n",
       "        vertical-align: middle;\n",
       "    }\n",
       "\n",
       "    .dataframe tbody tr th {\n",
       "        vertical-align: top;\n",
       "    }\n",
       "\n",
       "    .dataframe thead th {\n",
       "        text-align: right;\n",
       "    }\n",
       "</style>\n",
       "<table border=\"1\" class=\"dataframe\">\n",
       "  <thead>\n",
       "    <tr style=\"text-align: right;\">\n",
       "      <th></th>\n",
       "      <th>author</th>\n",
       "      <th>title</th>\n",
       "      <th>description</th>\n",
       "      <th>url</th>\n",
       "      <th>urlToImage</th>\n",
       "      <th>publishedAt</th>\n",
       "      <th>content</th>\n",
       "      <th>source.id</th>\n",
       "      <th>source.name</th>\n",
       "    </tr>\n",
       "  </thead>\n",
       "  <tbody>\n",
       "    <tr>\n",
       "      <th>0</th>\n",
       "      <td>nickodiaz@sbcglobal.net (Nickolas Diaz) , Nick...</td>\n",
       "      <td>Join the Legion: Lenovo, FIFAe announce partne...</td>\n",
       "      <td>The company's bringing its prowess in powerful...</td>\n",
       "      <td>https://www.androidcentral.com/tablets/lenovo/...</td>\n",
       "      <td>https://cdn.mos.cms.futurecdn.net/NLmur7dhhTMH...</td>\n",
       "      <td>2025-08-30T10:47:00Z</td>\n",
       "      <td>What you need to know\\r\\n&lt;ul&gt;&lt;li&gt;Lenovo announ...</td>\n",
       "      <td>None</td>\n",
       "      <td>Android Central</td>\n",
       "    </tr>\n",
       "    <tr>\n",
       "      <th>1</th>\n",
       "      <td>Kevin Lynch</td>\n",
       "      <td>Bulgaria vs. Spain: Livestream World Cup 2026 ...</td>\n",
       "      <td>Lamine Yamal and co. continue their quest to b...</td>\n",
       "      <td>https://www.cnet.com/tech/services-and-softwar...</td>\n",
       "      <td>https://www.cnet.com/a/img/resize/fe4e1f0f7de7...</td>\n",
       "      <td>2025-09-04T15:46:00Z</td>\n",
       "      <td>Luis de la Fuente's Spain will look to get the...</td>\n",
       "      <td>None</td>\n",
       "      <td>CNET</td>\n",
       "    </tr>\n",
       "    <tr>\n",
       "      <th>2</th>\n",
       "      <td>Jeff Carlisle</td>\n",
       "      <td>U.S. loss to South Korea another misstep with ...</td>\n",
       "      <td>You can say this about the USMNT: They are sin...</td>\n",
       "      <td>https://www.espn.com/soccer/story/_/id/4617880...</td>\n",
       "      <td>https://a3.espncdn.com/combiner/i?img=%2Fphoto...</td>\n",
       "      <td>2025-09-07T11:20:03Z</td>\n",
       "      <td>HARRISON, New Jersey -- You can say this about...</td>\n",
       "      <td>espn</td>\n",
       "      <td>ESPN</td>\n",
       "    </tr>\n",
       "    <tr>\n",
       "      <th>3</th>\n",
       "      <td>Kevin Lynch</td>\n",
       "      <td>France vs. Iceland: Livestream World Cup 2026 ...</td>\n",
       "      <td>Didier Deschamps' men look to build on a winni...</td>\n",
       "      <td>https://www.cnet.com/tech/services-and-softwar...</td>\n",
       "      <td>https://www.cnet.com/a/img/resize/5f2cb98acaf0...</td>\n",
       "      <td>2025-09-09T15:17:02Z</td>\n",
       "      <td>Two sides who got their World Cup 2026 qualify...</td>\n",
       "      <td>None</td>\n",
       "      <td>CNET</td>\n",
       "    </tr>\n",
       "    <tr>\n",
       "      <th>4</th>\n",
       "      <td>AJ Dellinger</td>\n",
       "      <td>On RaptureTok, Today Is the End of the World a...</td>\n",
       "      <td>See you on the other side.</td>\n",
       "      <td>https://gizmodo.com/on-rapturetok-today-is-the...</td>\n",
       "      <td>https://gizmodo.com/app/uploads/2025/09/jesus-...</td>\n",
       "      <td>2025-09-23T19:40:36Z</td>\n",
       "      <td>If you’re reading this, we’re sorry: You’re on...</td>\n",
       "      <td>None</td>\n",
       "      <td>Gizmodo.com</td>\n",
       "    </tr>\n",
       "    <tr>\n",
       "      <th>...</th>\n",
       "      <td>...</td>\n",
       "      <td>...</td>\n",
       "      <td>...</td>\n",
       "      <td>...</td>\n",
       "      <td>...</td>\n",
       "      <td>...</td>\n",
       "      <td>...</td>\n",
       "      <td>...</td>\n",
       "      <td>...</td>\n",
       "    </tr>\n",
       "    <tr>\n",
       "      <th>95</th>\n",
       "      <td>None</td>\n",
       "      <td>Switzerland vs. Slovenia: How to watch, odds, ...</td>\n",
       "      <td>Switzerland faces Slovenia in a World Cup Qual...</td>\n",
       "      <td>https://www.foxsports.com/stories/soccer/switz...</td>\n",
       "      <td>https://a57.foxsports.com/statics.foxsports.co...</td>\n",
       "      <td>2025-09-08T14:11:32Z</td>\n",
       "      <td>Switzerland hosts Slovenia in a World Cup Qual...</td>\n",
       "      <td>fox-sports</td>\n",
       "      <td>Fox Sports</td>\n",
       "    </tr>\n",
       "    <tr>\n",
       "      <th>96</th>\n",
       "      <td>Adriana Garcia</td>\n",
       "      <td>Paraguay declare public holiday after WC return</td>\n",
       "      <td>Paraguay president Santiago Peña has declared ...</td>\n",
       "      <td>https://www.espn.com/soccer/story/_/id/4616369...</td>\n",
       "      <td>https://a4.espncdn.com/combiner/i?img=%2Fphoto...</td>\n",
       "      <td>2025-09-05T10:23:11Z</td>\n",
       "      <td>Paraguay president Santiago Peña has declared ...</td>\n",
       "      <td>espn</td>\n",
       "      <td>ESPN</td>\n",
       "    </tr>\n",
       "    <tr>\n",
       "      <th>97</th>\n",
       "      <td>Ian Nicholas Quillen, Contributor, \\n Ian Nich...</td>\n",
       "      <td>Zohran Mamdani’s World Cup Ticket Demands Aren...</td>\n",
       "      <td>For American sports consumers, Mamdani's reque...</td>\n",
       "      <td>https://www.forbes.com/sites/ianquillen/2025/0...</td>\n",
       "      <td>https://imageio.forbes.com/specials-images/ima...</td>\n",
       "      <td>2025-09-12T15:05:27Z</td>\n",
       "      <td>New York City Mayoral candidate and Democratic...</td>\n",
       "      <td>None</td>\n",
       "      <td>Forbes</td>\n",
       "    </tr>\n",
       "    <tr>\n",
       "      <th>98</th>\n",
       "      <td>Adrian Back</td>\n",
       "      <td>Bolivia vs Brazil live stream: how to watch FI...</td>\n",
       "      <td>Watch as Bolivia take on Brazil in a key World...</td>\n",
       "      <td>https://www.techradar.com/how-to-watch/footbal...</td>\n",
       "      <td>https://cdn.mos.cms.futurecdn.net/uoVabcceCxJm...</td>\n",
       "      <td>2025-09-09T20:00:00Z</td>\n",
       "      <td>Having fallen short in their bid to clinch one...</td>\n",
       "      <td>techradar</td>\n",
       "      <td>TechRadar</td>\n",
       "    </tr>\n",
       "    <tr>\n",
       "      <th>99</th>\n",
       "      <td>None</td>\n",
       "      <td>Papers: US consortium launches £4.5bn bid for ...</td>\n",
       "      <td>The top stories and transfer rumours from Frid...</td>\n",
       "      <td>https://www.skysports.com/football/news/11095/...</td>\n",
       "      <td>https://e0.365dm.com/25/03/1600x900/skysports-...</td>\n",
       "      <td>2025-09-24T21:55:00Z</td>\n",
       "      <td>The top stories and transfer rumours from Frid...</td>\n",
       "      <td>None</td>\n",
       "      <td>Sky Sports</td>\n",
       "    </tr>\n",
       "  </tbody>\n",
       "</table>\n",
       "<p>100 rows × 9 columns</p>\n",
       "</div>"
      ],
      "text/plain": [
       "                                               author  \\\n",
       "0   nickodiaz@sbcglobal.net (Nickolas Diaz) , Nick...   \n",
       "1                                         Kevin Lynch   \n",
       "2                                       Jeff Carlisle   \n",
       "3                                         Kevin Lynch   \n",
       "4                                        AJ Dellinger   \n",
       "..                                                ...   \n",
       "95                                               None   \n",
       "96                                     Adriana Garcia   \n",
       "97  Ian Nicholas Quillen, Contributor, \\n Ian Nich...   \n",
       "98                                        Adrian Back   \n",
       "99                                               None   \n",
       "\n",
       "                                                title  \\\n",
       "0   Join the Legion: Lenovo, FIFAe announce partne...   \n",
       "1   Bulgaria vs. Spain: Livestream World Cup 2026 ...   \n",
       "2   U.S. loss to South Korea another misstep with ...   \n",
       "3   France vs. Iceland: Livestream World Cup 2026 ...   \n",
       "4   On RaptureTok, Today Is the End of the World a...   \n",
       "..                                                ...   \n",
       "95  Switzerland vs. Slovenia: How to watch, odds, ...   \n",
       "96    Paraguay declare public holiday after WC return   \n",
       "97  Zohran Mamdani’s World Cup Ticket Demands Aren...   \n",
       "98  Bolivia vs Brazil live stream: how to watch FI...   \n",
       "99  Papers: US consortium launches £4.5bn bid for ...   \n",
       "\n",
       "                                          description  \\\n",
       "0   The company's bringing its prowess in powerful...   \n",
       "1   Lamine Yamal and co. continue their quest to b...   \n",
       "2   You can say this about the USMNT: They are sin...   \n",
       "3   Didier Deschamps' men look to build on a winni...   \n",
       "4                          See you on the other side.   \n",
       "..                                                ...   \n",
       "95  Switzerland faces Slovenia in a World Cup Qual...   \n",
       "96  Paraguay president Santiago Peña has declared ...   \n",
       "97  For American sports consumers, Mamdani's reque...   \n",
       "98  Watch as Bolivia take on Brazil in a key World...   \n",
       "99  The top stories and transfer rumours from Frid...   \n",
       "\n",
       "                                                  url  \\\n",
       "0   https://www.androidcentral.com/tablets/lenovo/...   \n",
       "1   https://www.cnet.com/tech/services-and-softwar...   \n",
       "2   https://www.espn.com/soccer/story/_/id/4617880...   \n",
       "3   https://www.cnet.com/tech/services-and-softwar...   \n",
       "4   https://gizmodo.com/on-rapturetok-today-is-the...   \n",
       "..                                                ...   \n",
       "95  https://www.foxsports.com/stories/soccer/switz...   \n",
       "96  https://www.espn.com/soccer/story/_/id/4616369...   \n",
       "97  https://www.forbes.com/sites/ianquillen/2025/0...   \n",
       "98  https://www.techradar.com/how-to-watch/footbal...   \n",
       "99  https://www.skysports.com/football/news/11095/...   \n",
       "\n",
       "                                           urlToImage           publishedAt  \\\n",
       "0   https://cdn.mos.cms.futurecdn.net/NLmur7dhhTMH...  2025-08-30T10:47:00Z   \n",
       "1   https://www.cnet.com/a/img/resize/fe4e1f0f7de7...  2025-09-04T15:46:00Z   \n",
       "2   https://a3.espncdn.com/combiner/i?img=%2Fphoto...  2025-09-07T11:20:03Z   \n",
       "3   https://www.cnet.com/a/img/resize/5f2cb98acaf0...  2025-09-09T15:17:02Z   \n",
       "4   https://gizmodo.com/app/uploads/2025/09/jesus-...  2025-09-23T19:40:36Z   \n",
       "..                                                ...                   ...   \n",
       "95  https://a57.foxsports.com/statics.foxsports.co...  2025-09-08T14:11:32Z   \n",
       "96  https://a4.espncdn.com/combiner/i?img=%2Fphoto...  2025-09-05T10:23:11Z   \n",
       "97  https://imageio.forbes.com/specials-images/ima...  2025-09-12T15:05:27Z   \n",
       "98  https://cdn.mos.cms.futurecdn.net/uoVabcceCxJm...  2025-09-09T20:00:00Z   \n",
       "99  https://e0.365dm.com/25/03/1600x900/skysports-...  2025-09-24T21:55:00Z   \n",
       "\n",
       "                                              content   source.id  \\\n",
       "0   What you need to know\\r\\n<ul><li>Lenovo announ...        None   \n",
       "1   Luis de la Fuente's Spain will look to get the...        None   \n",
       "2   HARRISON, New Jersey -- You can say this about...        espn   \n",
       "3   Two sides who got their World Cup 2026 qualify...        None   \n",
       "4   If you’re reading this, we’re sorry: You’re on...        None   \n",
       "..                                                ...         ...   \n",
       "95  Switzerland hosts Slovenia in a World Cup Qual...  fox-sports   \n",
       "96  Paraguay president Santiago Peña has declared ...        espn   \n",
       "97  New York City Mayoral candidate and Democratic...        None   \n",
       "98  Having fallen short in their bid to clinch one...   techradar   \n",
       "99  The top stories and transfer rumours from Frid...        None   \n",
       "\n",
       "        source.name  \n",
       "0   Android Central  \n",
       "1              CNET  \n",
       "2              ESPN  \n",
       "3              CNET  \n",
       "4       Gizmodo.com  \n",
       "..              ...  \n",
       "95       Fox Sports  \n",
       "96             ESPN  \n",
       "97           Forbes  \n",
       "98        TechRadar  \n",
       "99       Sky Sports  \n",
       "\n",
       "[100 rows x 9 columns]"
      ]
     },
     "execution_count": 15,
     "metadata": {},
     "output_type": "execute_result"
    }
   ],
   "source": [
    "grab_latest_articles()"
   ]
  },
  {
   "cell_type": "code",
   "execution_count": null,
   "id": "2d688c4a-c4dd-4b0e-9409-bf5384a1a964",
   "metadata": {},
   "outputs": [],
   "source": []
  }
 ],
 "metadata": {
  "kernelspec": {
   "display_name": "Python 3",
   "language": "python",
   "name": "python3"
  },
  "language_info": {
   "codemirror_mode": {
    "name": "ipython",
    "version": 3
   },
   "file_extension": ".py",
   "mimetype": "text/x-python",
   "name": "python",
   "nbconvert_exporter": "python",
   "pygments_lexer": "ipython3",
   "version": "3.12.1"
  }
 },
 "nbformat": 4,
 "nbformat_minor": 5
}
